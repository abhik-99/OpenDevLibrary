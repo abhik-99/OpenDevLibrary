{
  "nbformat": 4,
  "nbformat_minor": 0,
  "metadata": {
    "colab": {
      "name": "Lesson2Notebook.ipynb",
      "provenance": [],
      "collapsed_sections": [
        "BLC26D2ZeGeU",
        "R5MJdRk5clB_",
        "fRr1cc_0eiEl"
      ]
    },
    "kernelspec": {
      "name": "python3",
      "display_name": "Python 3"
    },
    "accelerator": "GPU"
  },
  "cells": [
    {
      "cell_type": "markdown",
      "metadata": {
        "id": "BLC26D2ZeGeU",
        "colab_type": "text"
      },
      "source": [
        "# Imports"
      ]
    },
    {
      "cell_type": "code",
      "metadata": {
        "id": "_5iuIytuOlQC",
        "colab_type": "code",
        "colab": {}
      },
      "source": [
        "!apt update\n",
        "!apt install pciutils apt-file libcairo2-dev libpango1.0-dev libgtk2.0-dev\n",
        "!pip install imgaug==0.2.6\n",
        "!/usr/bin/lspci\n",
        "!cat /proc/cpuinfo\n",
        "!cat /proc/meminfo\n",
        "!nvidia-smi"
      ],
      "execution_count": 0,
      "outputs": []
    },
    {
      "cell_type": "code",
      "metadata": {
        "id": "49nq__6GjR2v",
        "colab_type": "code",
        "colab": {}
      },
      "source": [
        "!wget \"https://storage.googleapis.com/open_vino_public/openvino_initialization_script.py\"\n",
        "!python openvino_initialization_script.py"
      ],
      "execution_count": 0,
      "outputs": []
    },
    {
      "cell_type": "code",
      "metadata": {
        "id": "j2NSlS6Ejalm",
        "colab_type": "code",
        "colab": {}
      },
      "source": [
        "install_dir = \"/opt/intel/openvino/\"\n",
        "model_optimizer = \"/opt/intel/openvino/deployment_tools/model_optimizer/\"\n",
        "deployment_tools = \"/opt/intel/openvino/deployment_tools/\"\n",
        "model_zoo_downloader = \"/opt/intel/openvino/deployment_tools/open_model_zoo/tools/downloader\""
      ],
      "execution_count": 0,
      "outputs": []
    },
    {
      "cell_type": "markdown",
      "metadata": {
        "id": "37h6Rxhoavak",
        "colab_type": "text"
      },
      "source": [
        "# Choosing Models and Downloading them\n",
        "\n",
        "-  Running downloader.py without `--name` and `--precisions` will download all available pre-trained models. \\\n",
        "\n",
        "- The directory in which the models will be downloaded is `/home/workspace/intel/` \\\n",
        "\n",
        "- Using the -o argument to specify your output directory\n",
        "\n",
        "- \n",
        "\n",
        "[Human Pose Estimation](https://docs.openvinotoolkit.org/latest/_models_intel_human_pose_estimation_0001_description_human_pose_estimation_0001.html)\n",
        "\n",
        "[Text Detection](http://docs.openvinotoolkit.org/latest/_models_intel_text_detection_0004_description_text_detection_0004.html)\n",
        "\n",
        "[Determining Car Type & Color](https://docs.openvinotoolkit.org/latest/_models_intel_vehicle_attributes_recognition_barrier_0039_description_vehicle_attributes_recognition_barrier_0039.html)"
      ]
    },
    {
      "cell_type": "code",
      "metadata": {
        "id": "DZdUA8jeQ88P",
        "colab_type": "code",
        "colab": {}
      },
      "source": [
        "# downloading the Human Pose Estimation Model\n",
        "!sudo $model_zoo_downloader/downloader.py --name human-pose-estimation-0001 -o ."
      ],
      "execution_count": 0,
      "outputs": []
    },
    {
      "cell_type": "code",
      "metadata": {
        "id": "MxnDqjpMYPqu",
        "colab_type": "code",
        "colab": {}
      },
      "source": [
        "# downloading the Text Detection Model\n",
        "!sudo $model_zoo_downloader/downloader.py --name text-detection-0004 --precisions FP16 -o ."
      ],
      "execution_count": 0,
      "outputs": []
    },
    {
      "cell_type": "code",
      "metadata": {
        "id": "Ixn-HO7NYR88",
        "colab_type": "code",
        "colab": {}
      },
      "source": [
        "# downloading the Vehicle Attributes Model\n",
        "!sudo $model_zoo_downloader/downloader.py --name vehicle-attributes-recognition-barrier-0039 --precisions INT8 -o ."
      ],
      "execution_count": 0,
      "outputs": []
    },
    {
      "cell_type": "code",
      "metadata": {
        "id": "Gzp2sWQwYK5p",
        "colab_type": "code",
        "colab": {}
      },
      "source": [
        "# downloading the Semantic Segmentation Model\n",
        "!sudo $model_zoo_downloader/downloader.py --name semantic-segmentation-adas-0001 -o ."
      ],
      "execution_count": 0,
      "outputs": []
    },
    {
      "cell_type": "code",
      "metadata": {
        "id": "r1bftE52LdjK",
        "colab_type": "code",
        "colab": {}
      },
      "source": [
        "!python test.py"
      ],
      "execution_count": 0,
      "outputs": []
    },
    {
      "cell_type": "code",
      "metadata": {
        "id": "EkhBhlcaZDyU",
        "colab_type": "code",
        "colab": {}
      },
      "source": [
        "!python app.py -i \"images/blue-car.jpg\" -t \"CAR_META\" -m \"<path to the model .xml file>\" -c $deployment_tools\"inference_engine/lib/intel64/libcpu_extension_sse4.so\""
      ],
      "execution_count": 0,
      "outputs": []
    },
    {
      "cell_type": "markdown",
      "metadata": {
        "id": "fRr1cc_0eiEl",
        "colab_type": "text"
      },
      "source": [
        "# Output Code"
      ]
    },
    {
      "cell_type": "code",
      "metadata": {
        "id": "RdJ1RNyLSwKW",
        "colab_type": "code",
        "colab": {}
      },
      "source": [
        "#!curl -o car.png\n",
        "from google.colab.patches import cv2_imshow\n",
        "import cv2\n",
        "\n",
        "img = cv2.imread(\"CAR_META-output.png\", cv2.IMREAD_UNCHANGED)\n",
        "cv2_imshow(img)"
      ],
      "execution_count": 0,
      "outputs": []
    }
  ]
}